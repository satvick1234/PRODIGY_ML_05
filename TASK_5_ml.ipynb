{
  "nbformat": 4,
  "nbformat_minor": 0,
  "metadata": {
    "colab": {
      "provenance": [],
      "authorship_tag": "ABX9TyNIYwG2aNHbfEkABsx26yau",
      "include_colab_link": true
    },
    "kernelspec": {
      "name": "python3",
      "display_name": "Python 3"
    },
    "language_info": {
      "name": "python"
    }
  },
  "cells": [
    {
      "cell_type": "markdown",
      "metadata": {
        "id": "view-in-github",
        "colab_type": "text"
      },
      "source": [
        "<a href=\"https://colab.research.google.com/github/satvick1234/PRODIGY_ML_05/blob/main/TASK_5_ml.ipynb\" target=\"_parent\"><img src=\"https://colab.research.google.com/assets/colab-badge.svg\" alt=\"Open In Colab\"/></a>"
      ]
    },
    {
      "cell_type": "code",
      "source": [
        "from google.colab import drive\n",
        "drive.mount('/content/drive')"
      ],
      "metadata": {
        "id": "N4uVgt_Vz0QX",
        "colab": {
          "base_uri": "https://localhost:8080/"
        },
        "outputId": "816f67c6-59ce-4016-e7d7-b3dd46a8e015"
      },
      "execution_count": null,
      "outputs": [
        {
          "output_type": "stream",
          "name": "stdout",
          "text": [
            "Drive already mounted at /content/drive; to attempt to forcibly remount, call drive.mount(\"/content/drive\", force_remount=True).\n"
          ]
        }
      ]
    },
    {
      "cell_type": "code",
      "source": [
        "import numpy as np\n",
        "import tensorflow as tf\n",
        "from tensorflow.keras.preprocessing.image import ImageDataGenerator\n",
        "from tensorflow.keras.applications import EfficientNetB0\n",
        "from tensorflow.keras.models import Model\n",
        "from tensorflow.keras.layers import GlobalAveragePooling2D, Dense"
      ],
      "metadata": {
        "id": "o39QMtwL51Tl"
      },
      "execution_count": 43,
      "outputs": []
    },
    {
      "cell_type": "code",
      "source": [
        "# Constants\n",
        "IMAGE_SIZE = 224\n",
        "BATCH_SIZE = 32\n",
        "NUM_CLASSES = 101  # Number of food categories in Food-101 dataset"
      ],
      "metadata": {
        "id": "8eGviL-O52sk"
      },
      "execution_count": null,
      "outputs": []
    },
    {
      "cell_type": "code",
      "source": [
        "# Load and preprocess dataset (assumed to be already downloaded and stored)\n",
        "train_datagen = ImageDataGenerator(\n",
        "    rescale=1./255,\n",
        "        shear_range=0.2,\n",
        "            zoom_range=0.2,\n",
        "                horizontal_flip=True,\n",
        "                    validation_split=0.2)  # 20% validation split"
      ],
      "metadata": {
        "id": "7N9hlFQQ52mV"
      },
      "execution_count": null,
      "outputs": []
    },
    {
      "cell_type": "code",
      "source": [
        "train_generator = train_datagen.flow_from_directory(\n",
        "      \"/content/drive/MyDrive/images\",\n",
        "          target_size=(IMAGE_SIZE, IMAGE_SIZE),\n",
        "              batch_size=BATCH_SIZE,\n",
        "                  class_mode='categorical',\n",
        "                      subset='training')  # set as training data\n",
        "\n"
      ],
      "metadata": {
        "colab": {
          "base_uri": "https://localhost:8080/"
        },
        "id": "dbX1I49T52jU",
        "outputId": "576a8017-c6fc-4f12-82a0-000fa0a778fb"
      },
      "execution_count": null,
      "outputs": [
        {
          "output_type": "stream",
          "name": "stdout",
          "text": [
            "Found 15138 images belonging to 101 classes.\n"
          ]
        }
      ]
    },
    {
      "cell_type": "code",
      "source": [
        "validation_generator = train_datagen.flow_from_directory(\n",
        "      '/content/drive/MyDrive/images',  # same directory as training data\n",
        "          target_size=(IMAGE_SIZE, IMAGE_SIZE),\n",
        "              batch_size=BATCH_SIZE,\n",
        "                  class_mode='categorical',\n",
        "                      subset='validation')  # set as validation data\n"
      ],
      "metadata": {
        "colab": {
          "base_uri": "https://localhost:8080/"
        },
        "id": "bGi5AHF152gV",
        "outputId": "196affbb-286e-490a-c9b2-0d73dfb33075"
      },
      "execution_count": null,
      "outputs": [
        {
          "output_type": "stream",
          "name": "stdout",
          "text": [
            "Found 3784 images belonging to 101 classes.\n"
          ]
        }
      ]
    },
    {
      "cell_type": "code",
      "source": [
        "# Load pre-trained EfficientNetB0 model without top layers\n",
        "base_model = EfficientNetB0(weights='imagenet', include_top=False, input_shape=(IMAGE_SIZE, IMAGE_SIZE, 3))"
      ],
      "metadata": {
        "id": "hk2LSM0d52de"
      },
      "execution_count": null,
      "outputs": []
    },
    {
      "cell_type": "code",
      "source": [
        "# Freeze base model layers\n",
        "base_model.trainable = False"
      ],
      "metadata": {
        "id": "taMB3pL852Z8"
      },
      "execution_count": null,
      "outputs": []
    },
    {
      "cell_type": "code",
      "source": [
        "# Add custom top layers for classification and regression\n",
        "x = GlobalAveragePooling2D()(base_model.output)\n",
        "x = Dense(512, activation='relu')(x)  # Add more dense layers as needed\n",
        "classification_output = Dense(NUM_CLASSES, activation='softmax', name='classification')(x)\n",
        "calorie_output = Dense(1, activation='linear', name='calorie')(x)"
      ],
      "metadata": {
        "id": "mra9mr4G52W8"
      },
      "execution_count": null,
      "outputs": []
    },
    {
      "cell_type": "code",
      "source": [
        "# Combine inputs and outputs into a model\n",
        "model = Model(inputs=base_model.input, outputs=[classification_output, calorie_output])"
      ],
      "metadata": {
        "id": "PzW7HCfN52UF"
      },
      "execution_count": null,
      "outputs": []
    },
    {
      "cell_type": "code",
      "source": [
        "# Compile the model\n",
        "model.compile(optimizer='adam',\n",
        "              loss={'classification': 'categorical_crossentropy', 'calorie': 'mean_squared_error'},\n",
        "                            metrics={'classification': 'accuracy', 'calorie': 'mae'})"
      ],
      "metadata": {
        "id": "mjTigeA_52Q9"
      },
      "execution_count": null,
      "outputs": []
    },
    {
      "cell_type": "code",
      "source": [
        "# Train the model\n",
        "history = model.fit(\n",
        "    train_generator,\n",
        "        steps_per_epoch=train_generator.n // BATCH_SIZE,\n",
        "            epochs=0,\n",
        "                validation_data=validation_generator,\n",
        "                    validation_steps=validation_generator.n // BATCH_SIZE)\n"
      ],
      "metadata": {
        "id": "vJa2M9m-52OM"
      },
      "execution_count": null,
      "outputs": []
    },
    {
      "cell_type": "code",
      "source": [
        "# Save the model\n",
        "model.save('food_classifier_calorie_estimator.h5')\n"
      ],
      "metadata": {
        "colab": {
          "base_uri": "https://localhost:8080/"
        },
        "id": "72yH_D-S9FvL",
        "outputId": "64f8d437-2814-424a-ef03-88e975cdb2b5"
      },
      "execution_count": null,
      "outputs": [
        {
          "output_type": "stream",
          "name": "stderr",
          "text": [
            "/usr/local/lib/python3.10/dist-packages/keras/src/engine/training.py:3103: UserWarning: You are saving your model as an HDF5 file via `model.save()`. This file format is considered legacy. We recommend using instead the native Keras format, e.g. `model.save('my_model.keras')`.\n",
            "  saving_api.save_model(\n"
          ]
        }
      ]
    },
    {
      "cell_type": "code",
      "source": [
        "# Example inference (assuming you have an image and want to predict)\n",
        "def predict_image(image_path=\"/content/drive/MyDrive/images/tuna_tartare/3519.jpg\"):\n",
        "    img = tf.keras.preprocessing.image.load_img(\"/content/drive/MyDrive/images/tuna_tartare/3519.jpg\", target_size=(IMAGE_SIZE, IMAGE_SIZE))\n",
        "    img_array = tf.keras.preprocessing.image.img_to_array(img)\n",
        "    img_array = tf.expand_dims(img_array, 0)  # Create batch axis\n",
        "    img_array=img_array/ 255.0  # Rescale to [0, 1]\n",
        "\n",
        "    # Predict using the model\n",
        "    food_prediction, calorie_prediction = model.predict(img_array)\n",
        "\n",
        "    # Decode predictions (assuming food_prediction is categorical)\n",
        "    food_class = np.argmax(food_prediction)\n",
        "\n",
        "    return food_class, calorie_prediction # Return both predictions\n",
        "\n",
        "# Example usage\n",
        "food_class, calorie_prediction = predict_image('3519.jpg')\n",
        "print(f'Predicted Food Class: {food_class}')\n",
        "print(f'Estimated Calorie Content: {calorie_prediction}')"
      ],
      "metadata": {
        "colab": {
          "base_uri": "https://localhost:8080/"
        },
        "id": "EI_7Heypugyi",
        "outputId": "e81fb92a-3652-40ad-9dfc-0980f6cd6803"
      },
      "execution_count": 44,
      "outputs": [
        {
          "output_type": "stream",
          "name": "stdout",
          "text": [
            "1/1 [==============================] - 0s 115ms/step\n",
            "Predicted Food Class: 99\n",
            "Estimated Calorie Content: [[0.00381337]]\n"
          ]
        }
      ]
    },
    {
      "cell_type": "code",
      "source": [
        "# calorie_prediction contains the estimated calorie content\n",
        "\n",
        "print(food_class, float(calorie_prediction))"
      ],
      "metadata": {
        "colab": {
          "base_uri": "https://localhost:8080/"
        },
        "id": "-Hhph7yU-BRl",
        "outputId": "47f61a4b-19bd-44fc-aec8-377cb492999c"
      },
      "execution_count": null,
      "outputs": [
        {
          "output_type": "stream",
          "name": "stdout",
          "text": [
            "99 0.0038133710622787476\n"
          ]
        },
        {
          "output_type": "stream",
          "name": "stderr",
          "text": [
            "<ipython-input-31-ae32b42d10c9>:3: DeprecationWarning: Conversion of an array with ndim > 0 to a scalar is deprecated, and will error in future. Ensure you extract a single element from your array before performing this operation. (Deprecated NumPy 1.25.)\n",
            "  print(food_class, float(calorie_prediction))\n"
          ]
        }
      ]
    },
    {
      "cell_type": "code",
      "source": [
        "# Example usage\n",
        "food_class, calorie_prediction = predict_image('3519.jpg')\n",
        "print(f'Predicted Food Class: {food_class}')\n",
        "print(f'Estimated Calorie Content: {calorie_prediction}')"
      ],
      "metadata": {
        "colab": {
          "base_uri": "https://localhost:8080/"
        },
        "id": "kRZR00XQ-BUm",
        "outputId": "8cdf8b16-6aec-4a63-f194-4da5eacb836f"
      },
      "execution_count": null,
      "outputs": [
        {
          "output_type": "stream",
          "name": "stdout",
          "text": [
            "1/1 [==============================] - 0s 120ms/step\n",
            "Predicted Food Class: 99\n",
            "Estimated Calorie Content: [[0.00381337]]\n"
          ]
        }
      ]
    }
  ]
}